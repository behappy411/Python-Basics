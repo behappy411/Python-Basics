{
  "nbformat": 4,
  "nbformat_minor": 0,
  "metadata": {
    "colab": {
      "provenance": []
    },
    "kernelspec": {
      "name": "python3",
      "display_name": "Python 3"
    },
    "language_info": {
      "name": "python"
    }
  },
  "cells": [
    {
      "cell_type": "markdown",
      "source": [
        " 1. What is Python, and why is it popular?\n",
        "    - Python is an interpreted general purpose(or multi-purpose) High level programming language, with easy syntax and dynamic semantics.\n",
        "\n",
        "     It is popular because of following reasons are:\n",
        "     * Easy to understand Language.\n",
        "     * Open source.\n",
        "     * Huge community.\n",
        "     * Cross Platfrom(Portable).\n",
        "     * Huge sets of labraries(Numpy,etc.) and tools(pip,etc.).\n",
        "\n",
        " 2.  What is an interpreter in Python?\n",
        "     - It is a software which translate source code into machine code line by line.\n",
        "      Pros of Interpreter:\n",
        "       * Portable.\n",
        "       * Easy debugging.\n",
        "\n",
        "      Cons of Interpreter:\n",
        "       * Each machine require interpreter.\n",
        "       * Slower execution.\n",
        "       * Public Code(Safety of code).\n",
        "\n",
        " 3.  What are pre-defined keywords in Python?\n",
        "     - pre-defined keywords are special words that have specific, pre-assigned meanings and functionalities within the Python language. We can't use these words as names of our variables, functions and classes in our code. These keywords are reserved by Python for its syntax and to perform specific operations, that's why these keywords are also known as reserved words in python.\n",
        "\n",
        " 4. Can keywords be used as variable names?\n",
        "    - No, Keywords can't be use as names of our variables, functions and classes in our code. Keywords are reserved words that have a predefined meaning and purpose.Using keywords as variable names would cause syntax errors because the interpreter would misinterpret them.\n",
        "\n",
        " 5. What is mutability in Python?\n",
        "    - Mutability in Python refers to whether an object's value can be changed after it is created.\n",
        "    - Mutable objects: Their values can be modified after creation. Common examples include lists (list), dictionaries (dict), and sets (set).\n",
        "     Immutable objects: Their values cannot be changed once assigned. Examples include strings, tuples, and numbers.\n",
        "\n",
        " 6. Why are lists mutable, but tuples are immutable?\n",
        "    - List are mutable because they are designed to be dynamic — you can add, remove, and modify elements freely. Lists are stored as references to their elements, so you can update specific parts without needing to recreate the entire object.\n",
        "    - Tuples are immutable because python can implement them in a way that makes them faster than lists. That's why Tuples are optimized for memory efficiency and speed. Tuple's elements are stored in a fixed structure at creation, making modification impossible.\n",
        "\n",
        " 7. What is the difference between “==” and “is” operators in Python?\n",
        "    - \"==\" It is an Equality operator. It only checks that two objects have same value or not. If objects have same value then it will return 'True' else return 'False'. It is use when comparing values.\n",
        "     \n",
        "    - \"is\" It is an identity operator.It only checks that two objects have same in memory or not. If objects have in  same memory then it will return 'True' else return 'False'. It is use when checking object identity.\n",
        "\n",
        " 8. What are logical operators in Python?\n",
        "    - Logical operators in Python are used to perform logical operations on Boolean values (True or False). They help in decision-making and conditional statements.\n",
        "\n",
        "     The three main logical operators are:\n",
        "      * and (Logical AND):\n",
        "         Returns True if both conditions are True, otherwise returns False.\n",
        "      * or (Logical OR):\n",
        "         Returns True if atleast one condition is True, otherwise returns False.  \n",
        "      * not (Logical NOT):\n",
        "         Reverses the Boolean value (True → False and False → True).\n",
        "     Application:\n",
        "      * Conditional statements (if): Checking multiple conditions in a clean way.\n",
        "      * Loop control: Filtering elements in lists or data processing.\n",
        "\n",
        " 9. What is type casting in Python?\n",
        "    - Type casting in Python refers to the process of converting one data type into another. It is useful when you need to change the format of a variable to perform certain operations.\n",
        "     Python provides two main types of type casting:\n",
        "      * Implicit Type Casting (Automatic):\n",
        "         Python automatically converts data types when there's no risk of data loss.\n",
        "      * Explicit Type Casting (Manual):\n",
        "         You manually convert a data type using built-in functions like:\n",
        "          int(): Converts to an integer, float(): Converts to a floating-point number, str(): Converts to a string, list(), tuple(), dict(): Convert to respective data types.   \n",
        "\n",
        " 10. What is the difference between implicit and explicit type casting?\n",
        "      - Implicit Type Casting (Automatic):\n",
        "         Python automatically converts data types when there's no risk of data loss.\n",
        "        \n",
        "      - Explicit Type Casting (Manual):\n",
        "         You manually convert a data type using built-in functions like:      int(): Converts to an integer, float(): Converts to a floating-point number, str(): Converts to a string, list(), tuple(), dict(): Convert to respective data types.\n",
        "\n",
        " 11. What is the purpose of conditional statements in Python?         \n",
        "     - Conditional statements in Python allows to make decisions in code based on certain conditions. It enable to execute different blocks of code depending on whether a given condition evaluates to True or False.\n",
        "\n",
        "     Key Purposes of Conditional Statements:\n",
        "      * Decision-Making: Helps control the flow of execution by checking conditions.\n",
        "      * Dynamic Behavior: Allows programs to respond differently to different inputs or states.\n",
        "      * Error Handling: Helps prevent unintended operations by enforcing rules.\n",
        "\n",
        "     Types of Conditional Statements in Python:\n",
        "      * if statement: Executes code only if a condition is True.\n",
        "      * if-else statement: Provides an alternative execution path if the condition is False.\n",
        "      * elif statement: Adds more conditions to check.\n",
        "\n",
        " 12. How does the elif statement work?\n",
        "     - The elif statement in Python stands for \"else if\" and allows you to check multiple conditions sequentially. It ensures that only the first true condition executes, preventing unnecessary checks.\n",
        "\n",
        "     How It Works:\n",
        "      * The program first checks the if condition.\n",
        "      * If if is False, it moves to the elif statement.\n",
        "      * If an elif condition is True, it executes that block and skips the rest.\n",
        "      * If none of the conditions are True, the else block runs.\n",
        "\n",
        " 13. What is the difference between for and while loops?\n",
        "     - Both for and while loops in Python help execute repetitive tasks, but they work in different ways:\n",
        "      * for Loop: Used when the number of iterations is known Iterates over a sequence (like a list, tuple, or range). Stops automatically once all elements are processed.\n",
        "      * while Loop: Used when the condition must be checked each time\n",
        "Runs until a condition becomes False. Ideal for situations where you don't know in advance how many iterations are needed.\n",
        "\n",
        "       When Should Use of Each?\n",
        "        * Use for loop when looping through items (like lists or ranges).\n",
        "        * Use while loop when looping until a condition changes (e.g., waiting for user input).\n",
        "\n",
        " 14. Describe a scenario where a while loop is more suitable than a for loop.\n",
        "     - A while loop is more suitable than a for loop when you don't know in advance how many iterations will be needed and the loop should run until a condition becomes False.\n",
        "\n",
        "      Scenario:\n",
        "      - User Input Validation: Imagine you're designing a system where a user must enter a valid password before proceeding. Since you don't know how many attempts the user will need, a while loop is the best choice.\n",
        "\n",
        "      Other Common Scenarios for while Loops:\n",
        "       * Waiting for user confirmation (e.g., Press 'q' to exit).\n",
        "       * Simulating real-time processes (e.g., a game loop).\n",
        "       * Checking dynamic conditions (e.g., network connectivity)."
      ],
      "metadata": {
        "id": "76R9V1WmQFQn"
      }
    },
    {
      "cell_type": "code",
      "execution_count": 8,
      "metadata": {
        "id": "TJvB6d2MP8Xe",
        "colab": {
          "base_uri": "https://localhost:8080/"
        },
        "outputId": "6ebe23bd-ed03-45ec-cc79-2f64df9a3b20"
      },
      "outputs": [
        {
          "output_type": "stream",
          "name": "stdout",
          "text": [
            "Hello, World!\n"
          ]
        }
      ],
      "source": [
        "# 1. Write a Python program to print \"Hello, World!\".\n",
        "print(\"Hello, World!\")"
      ]
    },
    {
      "cell_type": "code",
      "source": [
        "# 2. Write a Python program that displays your name and age.\n",
        "name = 'Happy Singh'\n",
        "age = 23\n",
        "print(\"Name:\",name)\n",
        "print(\"Age:\",age)"
      ],
      "metadata": {
        "colab": {
          "base_uri": "https://localhost:8080/"
        },
        "id": "2UFuTpmTTG-B",
        "outputId": "9f7a4b4c-b42c-4be0-9509-c00c839b7ffc"
      },
      "execution_count": 9,
      "outputs": [
        {
          "output_type": "stream",
          "name": "stdout",
          "text": [
            "Name: Happy Singh\n",
            "Age: 23\n"
          ]
        }
      ]
    },
    {
      "cell_type": "code",
      "source": [
        "# 3. Write code to print all the pre-defined keywords in Python using the keyword library.\n",
        "import keyword\n",
        "print(keyword.kwlist)"
      ],
      "metadata": {
        "colab": {
          "base_uri": "https://localhost:8080/"
        },
        "id": "1Lz8zc1vUlDS",
        "outputId": "b438d139-dc26-4056-d4c1-16758dca303e"
      },
      "execution_count": 11,
      "outputs": [
        {
          "output_type": "stream",
          "name": "stdout",
          "text": [
            "['False', 'None', 'True', 'and', 'as', 'assert', 'async', 'await', 'break', 'class', 'continue', 'def', 'del', 'elif', 'else', 'except', 'finally', 'for', 'from', 'global', 'if', 'import', 'in', 'is', 'lambda', 'nonlocal', 'not', 'or', 'pass', 'raise', 'return', 'try', 'while', 'with', 'yield']\n"
          ]
        }
      ]
    },
    {
      "cell_type": "code",
      "source": [
        "# 4. Write a program that checks if a given word is a Python keyword.\n",
        "import keyword\n",
        "word = input(\"Enter your word: \")\n",
        "print(keyword.iskeyword(word))\n"
      ],
      "metadata": {
        "colab": {
          "base_uri": "https://localhost:8080/"
        },
        "id": "YsoshDWqVJMp",
        "outputId": "f0438cee-c71e-4939-e85a-da98e6a354e5"
      },
      "execution_count": 16,
      "outputs": [
        {
          "output_type": "stream",
          "name": "stdout",
          "text": [
            "Enter your word: break\n",
            "True\n"
          ]
        }
      ]
    },
    {
      "cell_type": "code",
      "source": [
        "# 5. Create a list and tuple in Python, and demonstrate how attempting to change an element works differently for each\n",
        "_list = [10, 30.2, 'abc', True, 3+5j]\n",
        "_tuple = (10, 30.2, 'abc', True, 3+5j)\n",
        "\n",
        "# add an element in list.\n",
        "_list[1] = 30\n",
        "print(_list)\n",
        "\n",
        "# add an element in tuple.\n",
        "#_tuple(1) = 30   # show error because tuple is immutable"
      ],
      "metadata": {
        "colab": {
          "base_uri": "https://localhost:8080/"
        },
        "id": "LxHVGR1MZPX9",
        "outputId": "41fe16da-8227-48f8-9aec-20af54c26ef3"
      },
      "execution_count": 21,
      "outputs": [
        {
          "output_type": "stream",
          "name": "stdout",
          "text": [
            "[10, 30, 'abc', True, (3+5j)]\n"
          ]
        }
      ]
    },
    {
      "cell_type": "code",
      "source": [
        "# 6. Write a function to demonstrate the behavior of mutable and immutable arguments.\n",
        "def fun(x, y):\n",
        "   x += 3  # add some value in immutable argument\n",
        "   y.append(5) # add some value in immutable argument\n",
        "   print(\"Inside the function\", x, y)\n",
        "\n",
        "num = 7     # take any immutable data type like string, tuples.\n",
        "_list = [1,2,3,4]   # take any mutable data type like set, dictionary.\n",
        "\n",
        "# call the function\n",
        "fun(num, _list)\n",
        "\n",
        "# print the argument after calling the function.\n",
        "print(\"Outside the function\", num, _list)"
      ],
      "metadata": {
        "colab": {
          "base_uri": "https://localhost:8080/"
        },
        "id": "M4EFGPPgcD4V",
        "outputId": "365215ce-8329-4869-8ac9-250bdf0345fe"
      },
      "execution_count": 5,
      "outputs": [
        {
          "output_type": "stream",
          "name": "stdout",
          "text": [
            "Inside the function 10 [1, 2, 3, 4, 5]\n",
            "Outside the function 7 [1, 2, 3, 4, 5]\n"
          ]
        }
      ]
    },
    {
      "cell_type": "code",
      "source": [
        "# 7. Write a program that performs basic arithmetic operations on two user-input numbers.\n",
        "num1 = int(input(\"Number 1:\"))\n",
        "num2 = int(input(\"Number 2:\"))\n",
        "\n",
        "# perform basic arithmetic operation\n",
        "print(\"Addition =\", num1+num2)\n",
        "print(\"Subtraction =\", num1-num2)\n",
        "print(\"float Divison =\", num1/num2)\n",
        "print(\"Int Division =\", num1//num2)\n",
        "print(\"Division Remainder =\", num1%num2)\n",
        "print(\"Multipication =\", num1*num2)\n",
        "print(\"Exponentiation =\", num1**num2)"
      ],
      "metadata": {
        "colab": {
          "base_uri": "https://localhost:8080/"
        },
        "id": "a4Tn6ut98WjS",
        "outputId": "e749deea-74db-4b1e-8c81-c35d5e6b6bd4"
      },
      "execution_count": 6,
      "outputs": [
        {
          "output_type": "stream",
          "name": "stdout",
          "text": [
            "Number 1:4\n",
            "Number 2:3\n",
            "Addition = 7\n",
            "Subtraction = 1\n",
            "float Divison = 1.3333333333333333\n",
            "Int Division = 1\n",
            "Division Remainder = 1\n",
            "Multipication = 12\n",
            "Exponentiation = 64\n"
          ]
        }
      ]
    },
    {
      "cell_type": "code",
      "source": [
        "# 8. Write a program to demonstrate the use of logical operators\n",
        "\n",
        "print(\"AND logical operator\")\n",
        "print(\"T and T = \",True and True)\n",
        "print(\"T amd F = \",True and False)\n",
        "print(\"F and T = \",False and True)\n",
        "print(\"F and F = \",False and False)\n",
        "\n",
        "print(\"OR logical operator\")\n",
        "print(\"T or T = \",True or True)\n",
        "print(\"T or F = \",True or False)\n",
        "print(\"F or T = \",False or True)\n",
        "print(\"F or F = \",False or False)\n",
        "\n",
        "print(\"Not logical operator\")\n",
        "print(\"not T = \",not True)\n",
        "print(\"not F = \",not False)"
      ],
      "metadata": {
        "colab": {
          "base_uri": "https://localhost:8080/"
        },
        "id": "EQ136vII_AVp",
        "outputId": "b977a36d-0b70-4e36-81ce-fb5d97eed18b"
      },
      "execution_count": 11,
      "outputs": [
        {
          "output_type": "stream",
          "name": "stdout",
          "text": [
            "AND logical operator\n",
            "T and T =  True\n",
            "T amd F =  False\n",
            "F and T =  False\n",
            "F and F =  False\n",
            "OR logical operator\n",
            "T or T =  True\n",
            "T or F =  True\n",
            "F or T =  True\n",
            "F or F =  False\n",
            "Not logical operator\n",
            "not T =  False\n",
            "not F =  True\n"
          ]
        }
      ]
    },
    {
      "cell_type": "code",
      "source": [
        "# 9. Write a Python program to convert user input from string to integer, float, and boolean types.\n",
        "value = input(\"Enter value: \")\n",
        "print(value)\n",
        "print(\"Int typecasting:\",int(value))\n",
        "print(\"Bool typecasting:\",bool(value))\n",
        "print(\"Float typecasting:\",float(value))"
      ],
      "metadata": {
        "colab": {
          "base_uri": "https://localhost:8080/"
        },
        "id": "f4E0Zy3RDB_M",
        "outputId": "795039c8-6555-45b1-d915-d6198c363ca0"
      },
      "execution_count": 14,
      "outputs": [
        {
          "output_type": "stream",
          "name": "stdout",
          "text": [
            "Enter value: 0\n",
            "0\n",
            "Int typecasting: 0\n",
            "Bool typecasting: True\n",
            "Float typecasting: 0.0\n"
          ]
        }
      ]
    },
    {
      "cell_type": "code",
      "source": [
        "# 10. Write code to demonstrate type casting with list elements.\n",
        "_list=[0,1]\n",
        "print(\"Int typecasting:\",int(_list[0]))\n",
        "print(\"Bool typecasting:\",bool(_list[1]))\n",
        "print(\"Float typecasting:\",float(_list[0]))\n",
        "print(\"Str typecasting:\",str(_list[1]))"
      ],
      "metadata": {
        "colab": {
          "base_uri": "https://localhost:8080/"
        },
        "id": "3eoANU3tEeko",
        "outputId": "713b953f-5147-460d-8d1e-036ae939d7d0"
      },
      "execution_count": 15,
      "outputs": [
        {
          "output_type": "stream",
          "name": "stdout",
          "text": [
            "Int typecasting: 0\n",
            "Bool typecasting: True\n",
            "Float typecasting: 0.0\n",
            "Str typecasting: 1\n"
          ]
        }
      ]
    },
    {
      "cell_type": "code",
      "source": [
        "# 11. Write a program that checks if a number is positive, negative, or zero.\n",
        "num = int(input(\"Enter Number: \"))\n",
        "if num > 0:\n",
        "  print(\"Number is Positive\")\n",
        "elif num < 0:\n",
        "  print(\"Number is Negative\")\n",
        "else:\n",
        "  print(\"Number is Zero\")"
      ],
      "metadata": {
        "colab": {
          "base_uri": "https://localhost:8080/"
        },
        "id": "X8fi0uDlIF22",
        "outputId": "7f2cb462-59e3-4ae4-e3ac-5539c1f5a56a"
      },
      "execution_count": 19,
      "outputs": [
        {
          "output_type": "stream",
          "name": "stdout",
          "text": [
            "Enter Number: 0\n",
            "Number is Zero\n"
          ]
        }
      ]
    },
    {
      "cell_type": "code",
      "source": [
        "#  12. Write a for loop to print numbers from 1 to 10.\n",
        "for i in range(1,11):\n",
        "  print(i)"
      ],
      "metadata": {
        "colab": {
          "base_uri": "https://localhost:8080/"
        },
        "id": "aLcJfx3lJPz3",
        "outputId": "53d9104e-206d-4b10-8109-841375cf2610"
      },
      "execution_count": 20,
      "outputs": [
        {
          "output_type": "stream",
          "name": "stdout",
          "text": [
            "1\n",
            "2\n",
            "3\n",
            "4\n",
            "5\n",
            "6\n",
            "7\n",
            "8\n",
            "9\n",
            "10\n"
          ]
        }
      ]
    },
    {
      "cell_type": "code",
      "source": [
        "# 13. Write a Python program to find the sum of all even numbers between 1 and 50.\n",
        "num = 0\n",
        "for i in range(1,51):\n",
        "  if i % 2 == 0:\n",
        "    num += i\n",
        "print(num)\n"
      ],
      "metadata": {
        "colab": {
          "base_uri": "https://localhost:8080/"
        },
        "id": "JIqwG0btJnmR",
        "outputId": "f70981dc-f846-434d-fd46-ede48d17f0e2"
      },
      "execution_count": 21,
      "outputs": [
        {
          "output_type": "stream",
          "name": "stdout",
          "text": [
            "650\n"
          ]
        }
      ]
    },
    {
      "cell_type": "code",
      "source": [
        "#  14. Write a program to reverse a string using a while loop.\n",
        "s1 = input(\"String: \")\n",
        "i = len(s1) - 1\n",
        "while i >= 0:\n",
        "  print(s1[i],end=\"\")\n",
        "  i -= 1\n",
        ""
      ],
      "metadata": {
        "colab": {
          "base_uri": "https://localhost:8080/"
        },
        "id": "3GD72roFKsRk",
        "outputId": "0ec23425-1e35-4bc1-e2b0-e52aeb2a2f65"
      },
      "execution_count": 30,
      "outputs": [
        {
          "output_type": "stream",
          "name": "stdout",
          "text": [
            "String: ion\n",
            "noi"
          ]
        }
      ]
    },
    {
      "cell_type": "code",
      "source": [
        "# 15. Write a Python program to calculate the factorial of a number provided by the user using a while loop.\n",
        "num = int(input(\"Enter Number: \"))\n",
        "fact = 1\n",
        "i = num\n",
        "while i > 0:\n",
        "  fact *= i\n",
        "  i -= 1\n",
        "print(\"Factorial of Number:\", fact)"
      ],
      "metadata": {
        "colab": {
          "base_uri": "https://localhost:8080/"
        },
        "id": "dAg7KefHP-5k",
        "outputId": "5a5e7583-1b3f-44e8-f7a6-88f2448a4ead"
      },
      "execution_count": 35,
      "outputs": [
        {
          "output_type": "stream",
          "name": "stdout",
          "text": [
            "Enter Number: 7\n",
            "Factorial of Number: 5040\n"
          ]
        }
      ]
    }
  ]
}